{
 "cells": [
  {
   "cell_type": "code",
   "execution_count": 52,
   "id": "e19a08cb",
   "metadata": {
    "tags": []
   },
   "outputs": [
    {
     "name": "stderr",
     "output_type": "stream",
     "text": [
      "/Applications/ANACONDA/anaconda3/envs/aiml_env/lib/python3.10/site-packages/pyspark/sql/context.py:112: FutureWarning: Deprecated in 3.0.0. Use SparkSession.builder.getOrCreate() instead.\n",
      "  warnings.warn(\n"
     ]
    }
   ],
   "source": [
    "\n",
    "import pyspark\n",
    "\n",
    "from pyspark.sql import SparkSession\n",
    "from pyspark import SparkContext, SQLContext\n",
    "from pyspark.sql.functions import lit\n",
    "\n",
    "appName = \"Project_2\"\n",
    "master = \"local\"\n",
    "\n",
    "# Create Configuration object for Spark.\n",
    "conf = pyspark.SparkConf()\\\n",
    "    .set('spark.driver.host','127.0.0.1')\\\n",
    "    .set('spark.driver.memory', '15g')\\\n",
    "    .setAppName(appName)\\\n",
    "    .setMaster(master)\n",
    "\n",
    "# Create Spark Context with the new configurations rather than relying on the default one\n",
    "sc = SparkContext.getOrCreate(conf=conf)\n",
    "\n",
    "# You need to create SQL Context to conduct some database operations like what we will see later.\n",
    "sqlContext = SQLContext(sc)\n",
    "\n",
    "# If you have SQL context, you create the session from the Spark Context\n",
    "spark = sqlContext.sparkSession.builder.getOrCreate()"
   ]
  },
  {
   "cell_type": "code",
   "execution_count": 53,
   "id": "c66842ae",
   "metadata": {
    "tags": []
   },
   "outputs": [
    {
     "name": "stderr",
     "output_type": "stream",
     "text": [
      "                                                                                \r"
     ]
    }
   ],
   "source": [
    "# Load data from csv to a dataframe on a local machine. \n",
    "# header=False means the first row is not a header \n",
    "# sep=',' means the column are seperated using ','\n",
    "\n",
    "\n",
    "df_train = spark.read.csv(\"/Users/kiranprasadjp/Downloads/archive (1)/Data/FINAL_CSV/train70.csv\",header=True, inferSchema= True)\n",
    "df_test = spark.read.csv(\"/Users/kiranprasadjp/Downloads/archive (1)/Data/FINAL_CSV/test30_reduced.csv\",header=True, inferSchema= True)\n",
    "df_train = df_train.withColumn(\"dataset\", lit(\"train\"))\n",
    "df_test = df_test.withColumn(\"dataset\", lit(\"test\"))\n",
    "df = df_train.union(df_test)\n"
   ]
  },
  {
   "cell_type": "code",
   "execution_count": 54,
   "id": "f0df0e1e",
   "metadata": {
    "tags": []
   },
   "outputs": [
    {
     "name": "stderr",
     "output_type": "stream",
     "text": [
      "                                                                                \r"
     ]
    }
   ],
   "source": [
    "db_properties={}\n",
    "db_properties['username']=\"postgres\"\n",
    "db_properties['password']=\"1412\"\n",
    "db_properties['url']= \"jdbc:postgresql://localhost:5432/postgres\"\n",
    "\n",
    "# I have kept the table name as intrusion2\n",
    "db_properties['table']=\"MQTT\" \n",
    "db_properties['driver']=\"org.postgresql.Driver\"\n",
    "\n",
    "df.write.format(\"jdbc\")\\\n",
    ".mode(\"overwrite\")\\\n",
    ".option(\"url\", db_properties['url'])\\\n",
    ".option(\"dbtable\", db_properties['table'])\\\n",
    ".option(\"user\", db_properties['username'])\\\n",
    ".option(\"password\", db_properties['password'])\\\n",
    ".option(\"Driver\", db_properties['driver'])\\\n",
    ".save()\n"
   ]
  },
  {
   "cell_type": "code",
   "execution_count": 55,
   "id": "9573e7bb",
   "metadata": {
    "tags": []
   },
   "outputs": [
    {
     "name": "stderr",
     "output_type": "stream",
     "text": [
      "[Stage 92:>                                                         (0 + 1) / 1]\r"
     ]
    },
    {
     "name": "stdout",
     "output_type": "stream",
     "text": [
      "-RECORD 0--------------------------------\n",
      " tcp.flags                  | 0x00000018 \n",
      " tcp.time_delta             | 1.41E-4    \n",
      " tcp.len                    | 13         \n",
      " mqtt.conack.flags          | 0          \n",
      " mqtt.conack.flags.reserved | 0.0        \n",
      " mqtt.conack.flags.sp       | 0.0        \n",
      " mqtt.conack.val            | 0.0        \n",
      " mqtt.conflag.cleansess     | 0.0        \n",
      " mqtt.conflag.passwd        | 0.0        \n",
      " mqtt.conflag.qos           | 0.0        \n",
      " mqtt.conflag.reserved      | 0.0        \n",
      " mqtt.conflag.retain        | 0.0        \n",
      " mqtt.conflag.uname         | 0.0        \n",
      " mqtt.conflag.willflag      | 0.0        \n",
      " mqtt.conflags              | 0          \n",
      " mqtt.dupflag               | 0.0        \n",
      " mqtt.hdrflags              | 0x00000030 \n",
      " mqtt.kalive                | 0.0        \n",
      " mqtt.len                   | 11.0       \n",
      " mqtt.msg                   | 32         \n",
      " mqtt.msgid                 | 0.0        \n",
      " mqtt.msgtype               | 3.0        \n",
      " mqtt.proto_len             | 0.0        \n",
      " mqtt.protoname             | 0          \n",
      " mqtt.qos                   | 0.0        \n",
      " mqtt.retain                | 0.0        \n",
      " mqtt.sub.qos               | 0.0        \n",
      " mqtt.suback.qos            | 0.0        \n",
      " mqtt.ver                   | 0.0        \n",
      " mqtt.willmsg               | 0.0        \n",
      " mqtt.willmsg_len           | 0.0        \n",
      " mqtt.willtopic             | 0.0        \n",
      " mqtt.willtopic_len         | 0.0        \n",
      " target                     | legitimate \n",
      " dataset                    | train      \n",
      "only showing top 1 row\n",
      "\n",
      "root\n",
      " |-- tcp.flags: string (nullable = true)\n",
      " |-- tcp.time_delta: double (nullable = true)\n",
      " |-- tcp.len: integer (nullable = true)\n",
      " |-- mqtt.conack.flags: string (nullable = true)\n",
      " |-- mqtt.conack.flags.reserved: double (nullable = true)\n",
      " |-- mqtt.conack.flags.sp: double (nullable = true)\n",
      " |-- mqtt.conack.val: double (nullable = true)\n",
      " |-- mqtt.conflag.cleansess: double (nullable = true)\n",
      " |-- mqtt.conflag.passwd: double (nullable = true)\n",
      " |-- mqtt.conflag.qos: double (nullable = true)\n",
      " |-- mqtt.conflag.reserved: double (nullable = true)\n",
      " |-- mqtt.conflag.retain: double (nullable = true)\n",
      " |-- mqtt.conflag.uname: double (nullable = true)\n",
      " |-- mqtt.conflag.willflag: double (nullable = true)\n",
      " |-- mqtt.conflags: string (nullable = true)\n",
      " |-- mqtt.dupflag: double (nullable = true)\n",
      " |-- mqtt.hdrflags: string (nullable = true)\n",
      " |-- mqtt.kalive: double (nullable = true)\n",
      " |-- mqtt.len: double (nullable = true)\n",
      " |-- mqtt.msg: string (nullable = true)\n",
      " |-- mqtt.msgid: double (nullable = true)\n",
      " |-- mqtt.msgtype: double (nullable = true)\n",
      " |-- mqtt.proto_len: double (nullable = true)\n",
      " |-- mqtt.protoname: string (nullable = true)\n",
      " |-- mqtt.qos: double (nullable = true)\n",
      " |-- mqtt.retain: double (nullable = true)\n",
      " |-- mqtt.sub.qos: double (nullable = true)\n",
      " |-- mqtt.suback.qos: double (nullable = true)\n",
      " |-- mqtt.ver: double (nullable = true)\n",
      " |-- mqtt.willmsg: double (nullable = true)\n",
      " |-- mqtt.willmsg_len: double (nullable = true)\n",
      " |-- mqtt.willtopic: double (nullable = true)\n",
      " |-- mqtt.willtopic_len: double (nullable = true)\n",
      " |-- target: string (nullable = true)\n",
      " |-- dataset: string (nullable = true)\n",
      "\n"
     ]
    },
    {
     "name": "stderr",
     "output_type": "stream",
     "text": [
      "                                                                                \r"
     ]
    }
   ],
   "source": [
    "df_read = sqlContext.read.format(\"jdbc\")\\\n",
    "    .option(\"url\", db_properties['url'])\\\n",
    "    .option(\"dbtable\", db_properties['table'])\\\n",
    "    .option(\"user\", db_properties['username'])\\\n",
    "    .option(\"password\", db_properties['password'])\\\n",
    "    .option(\"Driver\", db_properties['driver'])\\\n",
    "    .load()\n",
    "\n",
    "df_read.show(1, vertical=True)\n",
    "df_read.printSchema()"
   ]
  },
  {
   "cell_type": "code",
   "execution_count": 56,
   "id": "5047d8d6",
   "metadata": {
    "tags": []
   },
   "outputs": [],
   "source": [
    "from pyspark.sql.functions import col\n",
    "\n",
    "def replace_dot_with_underscore(data_df):\n",
    "    # Replace '.' with '_' in column names\n",
    "    for col_name in data_df.columns:\n",
    "        new_col_name = col_name.replace('.', '_')\n",
    "        data_df = data_df.withColumnRenamed(col_name, new_col_name)\n",
    "    return data_df\n",
    "renamed_columns_df = replace_dot_with_underscore(df)"
   ]
  },
  {
   "cell_type": "code",
   "execution_count": 57,
   "id": "721caec3",
   "metadata": {
    "tags": []
   },
   "outputs": [
    {
     "name": "stdout",
     "output_type": "stream",
     "text": [
      "root\n",
      " |-- tcp_flags: string (nullable = true)\n",
      " |-- tcp_time_delta: double (nullable = true)\n",
      " |-- tcp_len: integer (nullable = true)\n",
      " |-- mqtt_conack_flags: string (nullable = true)\n",
      " |-- mqtt_conack_flags_reserved: double (nullable = true)\n",
      " |-- mqtt_conack_flags_sp: double (nullable = true)\n",
      " |-- mqtt_conack_val: double (nullable = true)\n",
      " |-- mqtt_conflag_cleansess: double (nullable = true)\n",
      " |-- mqtt_conflag_passwd: double (nullable = true)\n",
      " |-- mqtt_conflag_qos: double (nullable = true)\n",
      " |-- mqtt_conflag_reserved: double (nullable = true)\n",
      " |-- mqtt_conflag_retain: double (nullable = true)\n",
      " |-- mqtt_conflag_uname: double (nullable = true)\n",
      " |-- mqtt_conflag_willflag: double (nullable = true)\n",
      " |-- mqtt_conflags: string (nullable = true)\n",
      " |-- mqtt_dupflag: double (nullable = true)\n",
      " |-- mqtt_hdrflags: string (nullable = true)\n",
      " |-- mqtt_kalive: double (nullable = true)\n",
      " |-- mqtt_len: double (nullable = true)\n",
      " |-- mqtt_msg: string (nullable = true)\n",
      " |-- mqtt_msgid: double (nullable = true)\n",
      " |-- mqtt_msgtype: double (nullable = true)\n",
      " |-- mqtt_proto_len: double (nullable = true)\n",
      " |-- mqtt_protoname: string (nullable = true)\n",
      " |-- mqtt_qos: double (nullable = true)\n",
      " |-- mqtt_retain: double (nullable = true)\n",
      " |-- mqtt_sub_qos: double (nullable = true)\n",
      " |-- mqtt_suback_qos: double (nullable = true)\n",
      " |-- mqtt_ver: double (nullable = true)\n",
      " |-- mqtt_willmsg: double (nullable = true)\n",
      " |-- mqtt_willmsg_len: double (nullable = true)\n",
      " |-- mqtt_willtopic: double (nullable = true)\n",
      " |-- mqtt_willtopic_len: double (nullable = true)\n",
      " |-- target: string (nullable = true)\n",
      " |-- dataset: string (nullable = false)\n",
      "\n"
     ]
    }
   ],
   "source": [
    "renamed_columns_df.printSchema()"
   ]
  },
  {
   "cell_type": "code",
   "execution_count": 58,
   "id": "a1f7ba35",
   "metadata": {
    "tags": []
   },
   "outputs": [
    {
     "name": "stderr",
     "output_type": "stream",
     "text": [
      "[Stage 93:=============================================>           (8 + 1) / 10]\r"
     ]
    },
    {
     "name": "stdout",
     "output_type": "stream",
     "text": [
      "Average length for 'train' dataset: 7.2058089663222225\n"
     ]
    },
    {
     "name": "stderr",
     "output_type": "stream",
     "text": [
      "                                                                                \r"
     ]
    }
   ],
   "source": [
    "from pyspark.sql.functions import avg\n",
    "\n",
    "\n",
    "# Filter the DataFrame to select only rows where 'dataset' is 'train'\n",
    "train_df = renamed_columns_df.filter(renamed_columns_df['dataset'] == 'train')\n",
    "\n",
    "# Calculate the average of the 'len' column for the 'train' dataset\n",
    "average_length = train_df.agg(avg('mqtt_len')).collect()[0][0]\n",
    "\n",
    "# Print the average length\n",
    "print(\"Average length for 'train' dataset:\", average_length)"
   ]
  },
  {
   "cell_type": "code",
   "execution_count": 59,
   "id": "ecf7b77c",
   "metadata": {
    "tags": []
   },
   "outputs": [
    {
     "name": "stderr",
     "output_type": "stream",
     "text": [
      "[Stage 96:==============================================>          (9 + 1) / 11]\r"
     ]
    },
    {
     "name": "stdout",
     "output_type": "stream",
     "text": [
      "+----------+------------------+\n",
      "|    target|average_tcp_length|\n",
      "+----------+------------------+\n",
      "|   slowite|3.9993479678330797|\n",
      "|bruteforce|3.9871043376318873|\n",
      "|     flood|13313.415986949429|\n",
      "| malformed| 20.97491761259612|\n",
      "|       dos|312.65759830457716|\n",
      "|legitimate| 7.784230642716169|\n",
      "+----------+------------------+\n",
      "\n"
     ]
    },
    {
     "name": "stderr",
     "output_type": "stream",
     "text": [
      "                                                                                \r"
     ]
    }
   ],
   "source": [
    "average_lengths = renamed_columns_df.groupBy('target').agg(avg('tcp_len').alias('average_tcp_length'))\n",
    "\n",
    "average_lengths.show()\n"
   ]
  },
  {
   "cell_type": "code",
   "execution_count": 61,
   "id": "d94faf43",
   "metadata": {
    "tags": []
   },
   "outputs": [
    {
     "name": "stdin",
     "output_type": "stream",
     "text": [
      "Enter the number of most frequent TCP flags you want:  -1\n"
     ]
    },
    {
     "name": "stdout",
     "output_type": "stream",
     "text": [
      "Please enter a value greater than 0.\n"
     ]
    },
    {
     "name": "stdin",
     "output_type": "stream",
     "text": [
      "Enter the number of most frequent TCP flags you want:  2.2\n"
     ]
    },
    {
     "name": "stdout",
     "output_type": "stream",
     "text": [
      "Please enter a valid integer.\n"
     ]
    },
    {
     "name": "stdin",
     "output_type": "stream",
     "text": [
      "Enter the number of most frequent TCP flags you want:  111\n"
     ]
    },
    {
     "name": "stderr",
     "output_type": "stream",
     "text": [
      "                                                                                \r"
     ]
    },
    {
     "name": "stdout",
     "output_type": "stream",
     "text": [
      "Error: There are only 8 distinct TCP flags.\n"
     ]
    },
    {
     "name": "stdin",
     "output_type": "stream",
     "text": [
      "Enter the number of most frequent TCP flags you want:  6\n"
     ]
    },
    {
     "name": "stderr",
     "output_type": "stream",
     "text": [
      "[Stage 126:=============================================>          (9 + 1) / 11]\r"
     ]
    },
    {
     "name": "stdout",
     "output_type": "stream",
     "text": [
      "TCP Flag: 0x00000018, Count: 5366977\n",
      "TCP Flag: 0x00000010, Count: 3175803\n",
      "TCP Flag: 0x00000011, Count: 4198\n",
      "TCP Flag: 0x00000002, Count: 3382\n",
      "TCP Flag: 0x00000012, Count: 3382\n",
      "TCP Flag: 0x00000004, Count: 1592\n"
     ]
    },
    {
     "name": "stderr",
     "output_type": "stream",
     "text": [
      "                                                                                \r"
     ]
    }
   ],
   "source": [
    "def list_most_frequent_tcp_flags(data_df, top_n):\n",
    "    \"\"\"\n",
    "    List the most frequent X TCP flags.\n",
    "\n",
    "    Parameters:\n",
    "    data_df (pyspark.sql.DataFrame): PySpark DataFrame containing the data.\n",
    "    top_n (int): Number of most frequent TCP flags to list.\n",
    "\n",
    "    Returns:\n",
    "    list: List of dictionaries containing TCP flags and their counts.\n",
    "    \"\"\"\n",
    "    # Group by TCP flags and count their occurrences\n",
    "    tcp_flags_counts = data_df.groupBy(\"TCP_flags\").count().orderBy(col(\"count\").desc())\n",
    "\n",
    "    # Check if top_n exceeds the total number of distinct TCP flags\n",
    "    total_distinct_tcp_flags = tcp_flags_counts.count()\n",
    "    if top_n > total_distinct_tcp_flags:\n",
    "        print(f\"Error: There are only {total_distinct_tcp_flags} distinct TCP flags.\")\n",
    "        return []\n",
    "\n",
    "    # Take the top n TCP flags\n",
    "    top_tcp_flags = tcp_flags_counts.limit(top_n)\n",
    "\n",
    "    # Collect the results and return as a list of dictionaries\n",
    "    results = top_tcp_flags.select(\"TCP_flags\", \"count\").collect()\n",
    "    return [{\"TCP_flags\": row[\"TCP_flags\"], \"count\": row[\"count\"]} for row in results]\n",
    "\n",
    "# Example usage to list the most frequent TCP flags\n",
    "while True:\n",
    "    try:\n",
    "        top_n = int(input(\"Enter the number of most frequent TCP flags you want: \"))\n",
    "        if top_n > 0:\n",
    "            most_frequent_flags = list_most_frequent_tcp_flags(renamed_columns_df, top_n)\n",
    "\n",
    "            if most_frequent_flags:\n",
    "                # Display the result\n",
    "                for flag in most_frequent_flags:\n",
    "                    print(f\"TCP Flag: {flag['TCP_flags']}, Count: {flag['count']}\")\n",
    "                break\n",
    "        else:\n",
    "            print(\"Please enter a value greater than 0.\")\n",
    "    except ValueError:\n",
    "        print(\"Please enter a valid integer.\")"
   ]
  },
  {
   "cell_type": "code",
   "execution_count": 69,
   "id": "b0e8a0c8",
   "metadata": {
    "tags": []
   },
   "outputs": [
    {
     "name": "stdout",
     "output_type": "stream",
     "text": [
      "Unique Targets we have from the dataset:\n",
      "slowite\n",
      "bruteforce\n",
      "flood\n",
      "malformed\n",
      "denial-of-service\n",
      "legitimate\n"
     ]
    },
    {
     "name": "stderr",
     "output_type": "stream",
     "text": [
      "                                                                                \r"
     ]
    }
   ],
   "source": [
    "updated_target_types_list = renamed_columns_df.select('target').distinct()\n",
    "\n",
    "# Collect the unique values and convert them to a list\n",
    "updated_target_types_list = [row.target for row in unique_target_types.collect()]\n",
    "unique_target_types_list = [target.replace('dos', 'denial-of-service') if target == 'dos' else target for target in unique_target_types_list]\n",
    "\n",
    "# Print the unique protocol types\n",
    "print(\"Unique Targets we have from the dataset:\")\n",
    "for target in unique_target_types_list:\n",
    "    print(target)"
   ]
  },
  {
   "cell_type": "code",
   "execution_count": 70,
   "id": "246dc12f",
   "metadata": {
    "tags": []
   },
   "outputs": [
    {
     "name": "stderr",
     "output_type": "stream",
     "text": [
      "%4|1697155351.428|CONFWARN|Kirans-MacBook-Pro.local#producer-20| [thrd:app]: Configuration property group.id is a consumer property and will be ignored by this producer instance\n",
      "%4|1697155351.428|CONFWARN|Kirans-MacBook-Pro.local#producer-20| [thrd:app]: Configuration property session.timeout.ms is a consumer property and will be ignored by this producer instance\n",
      "%4|1697155351.428|CONFWARN|Kirans-MacBook-Pro.local#producer-20| [thrd:app]: Configuration property auto.offset.reset is a consumer property and will be ignored by this producer instance\n"
     ]
    }
   ],
   "source": [
    "from confluent_kafka import Producer\n",
    "import socket\n",
    "#Initialize Your Parameters here - Keep the variable values as is for the ones you can't find on the Confluent-Kafka connection \n",
    "KAFKA_CONFIG = {\n",
    "    \"bootstrap.servers\":\"pkc-6ojv2.us-west4.gcp.confluent.cloud:9092\",\n",
    "    \"security.protocol\":\"SASL_SSL\",\n",
    "    \"sasl.mechanisms\":\"PLAIN\",\n",
    "    \"sasl.username\":\"EEXTANNTVXA6WCL2\",\n",
    "    \"sasl.password\":\"BisHtfVsPcyqELq9x1Tt2U8o5/g3oTxTIFK6Zn7LUdyKcvK+ST3GHf+CCni2lku8\",\n",
    "    \"session.timeout.ms\":\"45000\",\n",
    "    \"group.id\":\"python-group-1\",\n",
    "    'auto.offset.reset': 'smallest',\n",
    "    'client.id': socket.gethostname()\n",
    "}\n",
    "\n",
    "# Update your topic name\n",
    "topic_name = \"topic_0\"\n",
    "producer = Producer(KAFKA_CONFIG)"
   ]
  },
  {
   "cell_type": "code",
   "execution_count": 74,
   "id": "336b152d",
   "metadata": {
    "tags": []
   },
   "outputs": [],
   "source": [
    "import feedparser\n",
    "import time\n",
    "\n",
    "# We are searching for Analytics in the news\n",
    "feed_url = \"https://news.google.com/rss/search?q=popular+cyber+attacks\"\n",
    "def extract_news_feed(feed_url, runtime_minutes=2):\n",
    "    feed = feedparser.parse(feed_url)\n",
    "    articles = []\n",
    "    extracted_articles = set()\n",
    "    start_time = time.time()\n",
    "    end_time = start_time + (runtime_minutes * 60)  # Convert minutes to seconds\n",
    "    while time.time() < end_time:\n",
    "        for entry in feed.entries:\n",
    "            link = entry.link\n",
    "            title = entry.title.encode('ascii', 'ignore').decode()\n",
    "            unique_id = f'{link}-{title}'\n",
    "            if unique_id in extracted_articles:\n",
    "                continue\n",
    "            extracted_articles.add(unique_id)\n",
    "            article_data = {\"title\": title, \"link\": link}\n",
    "            if article_data is not None:\n",
    "                producer.produce(topic_name, key=article_data[\"title\"], value=article_data[\"link\"])\n",
    "                \n",
    "        producer.flush()\n",
    "\n",
    "extract_news_feed(feed_url, runtime_minutes=.1)"
   ]
  },
  {
   "cell_type": "code",
   "execution_count": null,
   "id": "3fe63ed6-9c57-4661-a312-b0bea10c3c3c",
   "metadata": {},
   "outputs": [],
   "source": []
  },
  {
   "cell_type": "code",
   "execution_count": 75,
   "id": "8ab2c660",
   "metadata": {},
   "outputs": [
    {
     "name": "stdout",
     "output_type": "stream",
     "text": [
      "+---+-----+\n",
      "|key|value|\n",
      "+---+-----+\n",
      "+---+-----+\n",
      "\n",
      "Waiting...\n",
      "Waiting...\n",
      "b'What small businesses can do to protect against cyber threats - Daily Journal'\n",
      "decoded what small businesses can do to protect against cyber threats - daily journal\n",
      "b'Florida schools latest target in escalating cyber attacks - FOX 35 Orlando'\n",
      "decoded florida schools latest target in escalating cyber attacks - fox 35 orlando\n",
      "b'US Smashes Annual Data Breach Record With Three Months Left - Infosecurity Magazine'\n",
      "decoded us smashes annual data breach record with three months left - infosecurity magazine\n",
      "b'India emerges top-5 victim of cyber attacks in H1 CY23 - BusinessLine'\n",
      "decoded india emerges top-5 victim of cyber attacks in h1 cy23 - businessline\n",
      "b'23andMe suffers credential stuffing cyber attack | Cyber Security Hub - Cyber Security Hub'\n",
      "decoded 23andme suffers credential stuffing cyber attack cyber security hub - cyber security hub\n",
      "b'Ukraine cyber-conflict: Hacking gangs vow to de-escalate - BBC.com'\n",
      "decoded ukraine cyber-conflict hacking gangs vow to de-escalate - bbccom\n",
      "b'Cyber attack - Philstar.com'\n",
      "decoded cyber attack - philstarcom\n",
      "b'Will Quantum Computers Become the Next Cyber-Attack Platform ... - InformationWeek'\n",
      "decoded will quantum computers become the next cyber-attack platform - informationweek\n",
      "b'MGM faces 100m loss from cyber attack on its casinos - ComputerWeekly.com'\n",
      "decoded mgm faces 100m loss from cyber attack on its casinos - computerweeklycom\n",
      "b'6 Actions CEOs Must Take During a Cyberattack - HBR.org Daily'\n",
      "decoded 6 actions ceos must take during a cyberattack - hbrorg daily\n",
      "b'IOCTA spotlight report on malware-based cyber-attacks published ... - Europol'\n",
      "decoded iocta spotlight report on malware-based cyber-attacks published - europol\n",
      "b'Cybersecurity Awareness Month Series: FBI director says help fight ... - The Lane Report'\n",
      "decoded cybersecurity awareness month series fbi director says help fight - the lane report\n",
      "b'Box and CrowdStrike Partner to Combat Cyber Threats and Secure ... - AiThority'\n",
      "decoded box and crowdstrike partner to combat cyber threats and secure - aithority\n",
      "b'How I got started: Attack surface management - Security Intelligence'\n",
      "decoded how i got started attack surface management - security intelligence\n",
      "b'Casino giant Caesars Entertainment reports cyberattack - NPR'\n",
      "decoded casino giant caesars entertainment reports cyberattack - npr\n",
      "b'SCADA: the invisible backbone of modern industry - CyberNews.com'\n",
      "decoded scada the invisible backbone of modern industry - cybernewscom\n",
      "b'Well-informed employees act as 1st line of defense against cyber ... - TechCircle'\n",
      "decoded well-informed employees act as 1st line of defense against cyber - techcircle\n",
      "b'Experts canvass AI adoption to tackle cyber threats - The Nation Newspaper'\n",
      "decoded experts canvass ai adoption to tackle cyber threats - the nation newspaper\n",
      "b\"2022's 4 Most Common Cyberattack Patterns - Security Intelligence\"\n",
      "decoded 2022s 4 most common cyberattack patterns - security intelligence\n",
      "b'Emerging cyber threats in 2023 from AI to quantum to data poisoning - CSO Online'\n",
      "decoded emerging cyber threats in 2023 from ai to quantum to data poisoning - cso online\n",
      "b'Global cyberattacks increased 38% in 2022 - Security Magazine'\n",
      "decoded global cyberattacks increased 38 in 2022 - security magazine\n",
      "b'The 13 Costliest Cyberattacks of 2022: Looking Back - Security Intelligence'\n",
      "decoded the 13 costliest cyberattacks of 2022 looking back - security intelligence\n",
      "b'Cyber Threats Impacting the Food and Agriculture Sector - Food Safety Magazine'\n",
      "decoded cyber threats impacting the food and agriculture sector - food safety magazine\n",
      "b'The insurance industry cyber crime report: recent attacks on ... - Insurance Business'\n",
      "decoded the insurance industry cyber crime report recent attacks on - insurance business\n",
      "b'HHS Cybersecurity Task Force Provides New Resources to Help ... - HHS.gov'\n",
      "decoded hhs cybersecurity task force provides new resources to help - hhsgov\n",
      "b'Billboards in Israel were briefly hacked to display pro-Hamas messages as cyberwar ramps up - CNBC'\n",
      "decoded billboards in israel were briefly hacked to display pro-hamas messages as cyberwar ramps up - cnbc\n",
      "b'Newsom signs bill to combat cyberattacks against K-12 schools - CBS News'\n",
      "decoded newsom signs bill to combat cyberattacks against k-12 schools - cbs news\n",
      "b\"UTSA's cybersecurity program provides top talent to defend against ... - UTSA\"\n",
      "decoded utsas cybersecurity program provides top talent to defend against - utsa\n",
      "b'Cyber Insurance Lessens the Sting of Corporate Cyber Attacks - Bloomberg Law'\n",
      "decoded cyber insurance lessens the sting of corporate cyber attacks - bloomberg law\n",
      "b'WhatsApp says viral warnings of a cyberattack targeting Jews are ... - JTA News - Jewish Telegraphic Agency'\n",
      "decoded whatsapp says viral warnings of a cyberattack targeting jews are - jta news - jewish telegraphic agency\n",
      "b'Germany is failing to protect power groups from cyber attacks, warns ... - Financial Times'\n",
      "decoded germany is failing to protect power groups from cyber attacks warns - financial times\n",
      "b'Canadian organizations unprepared for AI-driven cyber threats - Security Magazine'\n",
      "decoded canadian organizations unprepared for ai-driven cyber threats - security magazine\n",
      "b'CISOs watch out: The most effective cyber attacks never touch your ... - BetaNews'\n",
      "decoded cisos watch out the most effective cyber attacks never touch your - betanews\n",
      "b'Generative AI is scaring CISOs  but adoption isnt slowing down - CSO Online'\n",
      "decoded generative ai is scaring cisos but adoption isnt slowing down - cso online\n",
      "b'Platypus suffers fresh $2.2m flash loan attack - BinBits'\n",
      "decoded platypus suffers fresh 22m flash loan attack - binbits\n",
      "b'Finnish websites hit by more cyberattacks | News | Yle Uutiset - YLE News'\n",
      "decoded finnish websites hit by more cyberattacks news yle uutiset - yle news\n",
      "b'Sergey Kondratenko: Cybersecurity in the Fintech Industry  Modern ... - Fintechnews Switzerland'\n",
      "decoded sergey kondratenko cybersecurity in the fintech industry modern - fintechnews switzerland\n",
      "b'How we blocked millions of cyber threats against Nigerian ... - Tribune Online'\n",
      "decoded how we blocked millions of cyber threats against nigerian - tribune online\n",
      "b'Cyber security breaches survey 2023 - GOV.UK'\n",
      "decoded cyber security breaches survey 2023 - govuk\n",
      "b'The biggest cyber security incidents in August 2023 | Cyber Security Hub - Cyber Security Hub'\n",
      "decoded the biggest cyber security incidents in august 2023 cyber security hub - cyber security hub\n",
      "b'Cybersecurity Trends & Statistics; More Sophisticated And Persistent Threats So Far In 2023 - Forbes'\n",
      "decoded cybersecurity trends statistics more sophisticated and persistent threats so far in 2023 - forbes\n",
      "b\"Today's Cyber Threats Require Modern Cloud Network Security ... - HBR.org Daily\"\n",
      "decoded todays cyber threats require modern cloud network security - hbrorg daily\n",
      "b'The Devastating Business Impacts of a Cyber Breach - HBR.org Daily'\n",
      "decoded the devastating business impacts of a cyber breach - hbrorg daily\n",
      "b'The 10 Biggest Cyber Security Trends In 2024 Everyone Must Be Ready For Now - Forbes'\n",
      "decoded the 10 biggest cyber security trends in 2024 everyone must be ready for now - forbes\n",
      "b'Supply chain - NCSC.GOV.UK - National Cyber Security Centre'\n",
      "decoded supply chain - ncscgovuk - national cyber security centre\n",
      "b'Firms offered training to prevent cybersecurity attacks  Mortgage ... - Mortgage Finance Gazette'\n",
      "decoded firms offered training to prevent cybersecurity attacks mortgage - mortgage finance gazette\n",
      "b'South Korea-NATO cybersecurity cooperation: learning to work ... - Real Instituto Elcano'\n",
      "decoded south korea-nato cybersecurity cooperation learning to work - real instituto elcano\n",
      "b\"Hackers using AI to increase cyber attacks, in this week's R&D ... - Research & Development World\"\n",
      "decoded hackers using ai to increase cyber attacks in this weeks rd - research development world\n",
      "b'Groups linked to Las Vegas cyber attacks are prolific criminal ... - CyberScoop'\n",
      "decoded groups linked to las vegas cyber attacks are prolific criminal - cyberscoop\n",
      "b'Digital Planning Podcast Episode: When Cyber Attacks Hit Home - JD Supra'\n",
      "decoded digital planning podcast episode when cyber attacks hit home - jd supra\n",
      "b'Google, Microsoft, Amazon and Cloudflare mitigated largest attack in internet history - Times of India'\n",
      "decoded google microsoft amazon and cloudflare mitigated largest attack in internet history - times of india\n",
      "b'CISO council to curb cyber attacks - IndiaTimes'\n",
      "decoded ciso council to curb cyber attacks - indiatimes\n",
      "b'Jamaican entities face continuous attacks from overseas ... - caribbeannationalweekly.com'\n",
      "decoded jamaican entities face continuous attacks from overseas - caribbeannationalweeklycom\n",
      "b'Data-driven cyber: empowering government security with... - NCSC ... - National Cyber Security Centre'\n",
      "decoded data-driven cyber empowering government security with - ncsc - national cyber security centre\n",
      "b'New scheme ready for Cyber Incident Exercising providers - National Cyber Security Centre'\n",
      "decoded new scheme ready for cyber incident exercising providers - national cyber security centre\n",
      "b\"Las Vegas Still Struggling to Recover from Last Sunday's Cyberattack - Slashdot\"\n",
      "decoded las vegas still struggling to recover from last sundays cyberattack - slashdot\n",
      "b'10 Most Common Types of Cyber Attacks Today - CrowdStrike'\n",
      "decoded 10 most common types of cyber attacks today - crowdstrike\n",
      "b'Uncovering the unheard: Researchers reveal inaudible remote ... - UTSA'\n",
      "decoded uncovering the unheard researchers reveal inaudible remote - utsa\n",
      "b'Cyberattacks on hospitals are growing threats to patient safety, experts say - ABC News'\n",
      "decoded cyberattacks on hospitals are growing threats to patient safety experts say - abc news\n",
      "b'16th AF, San Antonio industry partners join to combat cyber threats - acc.af.mil'\n",
      "decoded 16th af san antonio industry partners join to combat cyber threats - accafmil\n",
      "b'The Cyberwar Between the East and the West Goes Through Africa - Dark Reading'\n",
      "decoded the cyberwar between the east and the west goes through africa - dark reading\n",
      "b'Honeywell Unveils Breakthrough Enterprise Solution to Help ... - PR Newswire'\n",
      "decoded honeywell unveils breakthrough enterprise solution to help - pr newswire\n",
      "b'NSA releases a repository of signatures and analytics to secure ... - National Security Agency'\n",
      "decoded nsa releases a repository of signatures and analytics to secure - national security agency\n",
      "b'Second Annual Ponemon Institute Report Finds That Two-Thirds of Healthcare Organizations Surveyed Experienced Disruption to Patient Care Due to Cyber Attacks - Yahoo Finance'\n",
      "decoded second annual ponemon institute report finds that two-thirds of healthcare organizations surveyed experienced disruption to patient care due to cyber attacks - yahoo finance\n",
      "b'Gillibrand encourages students to apply for scholarship-for-service cyber program - Troy Record'\n",
      "decoded gillibrand encourages students to apply for scholarship-for-service cyber program - troy record\n",
      "b'Hackers could exploit ChatGPT for cyber attacks on NHS and MOD ... - The Telegraph'\n",
      "decoded hackers could exploit chatgpt for cyber attacks on nhs and mod - the telegraph\n",
      "b'Cyber-attacks know no boundaries and the front line of defence ... - NAB News'\n",
      "decoded cyber-attacks know no boundaries and the front line of defence - nab news\n",
      "b'Microsoft: How cybersecurity and AI transform threats into defenses - Tech Wire Asia'\n",
      "decoded microsoft how cybersecurity and ai transform threats into defenses - tech wire asia\n",
      "b'Why user buy-in is key when it comes to setting firms up for security ... - ITPro'\n",
      "decoded why user buy-in is key when it comes to setting firms up for security - itpro\n",
      "b'U.S. Electrical Grid and Renewables  Vulnerability to Cyber Attacks - JD Supra'\n",
      "decoded us electrical grid and renewables vulnerability to cyber attacks - jd supra\n",
      "b'Trustwave SpiderLabs Uncovers Critical Cybersecurity Threats ... - Business Wire'\n",
      "decoded trustwave spiderlabs uncovers critical cybersecurity threats - business wire\n",
      "b'Researchers Uncover Ongoing Attacks Targeting Asian ... - The Hacker News'\n",
      "decoded researchers uncover ongoing attacks targeting asian - the hacker news\n",
      "b'Cyber attacks on SMBs: Current Stats and How to Prevent Them - CrowdStrike'\n",
      "decoded cyber attacks on smbs current stats and how to prevent them - crowdstrike\n",
      "b'Cybersecurity Trends & Statistics For 2023; What You Need To Know - Forbes'\n",
      "decoded cybersecurity trends statistics for 2023 what you need to know - forbes\n",
      "b'Submarine Cable Growing Popularity Intensifying Cyber Attacks - GBHackers'\n",
      "decoded submarine cable growing popularity intensifying cyber attacks - gbhackers\n",
      "b'Biggest Cyber Security Challenges in 2023 - Check Point Software - Check Point Software'\n",
      "decoded biggest cyber security challenges in 2023 - check point software - check point software\n",
      "b'How a cyber attack impacts your school district - Security Boulevard'\n",
      "decoded how a cyber attack impacts your school district - security boulevard\n",
      "b'Half of Small Businesses Hit by Cyber-Attack Over the Past Year - Infosecurity Magazine'\n",
      "decoded half of small businesses hit by cyber-attack over the past year - infosecurity magazine\n",
      "b'Cybersecurity in pharma: Q&A with GlobalData thematic analyst - Pharmaceutical Technology'\n",
      "decoded cybersecurity in pharma qa with globaldata thematic analyst - pharmaceutical technology\n",
      "b'5 cyber hygiene strategies to help prevent cyber attacks - CSO Online'\n",
      "decoded 5 cyber hygiene strategies to help prevent cyber attacks - cso online\n",
      "b'Key to Proactive Cyber Security Is Management of Third-Party ... - Insurance Journal'\n",
      "decoded key to proactive cyber security is management of third-party - insurance journal\n",
      "b'Cyber_Bytes - Issue 57 - Lexology'\n",
      "decoded cyberbytes - issue 57 - lexology\n",
      "b'China Poised to Disrupt US Critical Infrastructure with Cyber-Attacks, - Infosecurity Magazine'\n",
      "decoded china poised to disrupt us critical infrastructure with cyber-attacks - infosecurity magazine\n",
      "b'Press Release - Senator Mark Villar Condemns Multiple Cyber ... - Senate of the Philippines'\n",
      "decoded press release - senator mark villar condemns multiple cyber - senate of the philippines\n",
      "b\"Caesars Entertainment's Recent Sell-off Regarding Cyber Attacks Generates Compelling Entry Point: Analyst - Benzinga\"\n",
      "decoded caesars entertainments recent sell-off regarding cyber attacks generates compelling entry point analyst - benzinga\n",
      "b'Australia Signs Five Country Pact to Strengthen Telcos Against ... - Australia Cyber Security Magazine'\n",
      "decoded australia signs five country pact to strengthen telcos against - australia cyber security magazine\n",
      "b\"What's on in the Lords 16-19 October - Committees\"\n",
      "decoded whats on in the lords 16-19 october - committees\n",
      "b'Cyberattacks on the Healthcare Sector - Check Point Software - Check Point Software'\n",
      "decoded cyberattacks on the healthcare sector - check point software - check point software\n",
      "b'What Is A Cyber Attack? Definition, Types & Prevention - Forbes'\n",
      "decoded what is a cyber attack definition types prevention - forbes\n",
      "b'ARE YOU MAKING YOURSELF EASY TO HACK? CANADIAN CYBER FIRM LAUNCHES AI-POWERED PLATFORM TO REDUCE PERSONAL CYBER ATTACKS - Yahoo Finance'\n",
      "decoded are you making yourself easy to hack canadian cyber firm launches ai-powered platform to reduce personal cyber attacks - yahoo finance\n",
      "b'What Is Threat Intelligence? Definition, Types & Process - Forbes'\n",
      "decoded what is threat intelligence definition types process - forbes\n",
      "b'US SMBs Urge for Cybersecurity Education as Cyber Threats Hit an ... - GlobeNewswire'\n",
      "decoded us smbs urge for cybersecurity education as cyber threats hit an - globenewswire\n",
      "b'Cyber algorithm neutralises malicious robot attack - Open Access Government'\n",
      "decoded cyber algorithm neutralises malicious robot attack - open access government\n",
      "b'Home Affairs and Immigration websites hit by denial-of-service cyber attacks - ABC News'\n",
      "decoded home affairs and immigration websites hit by denial-of-service cyber attacks - abc news\n",
      "b'The undeniable benefits of making cyber resiliency the new standard - CSO Online'\n",
      "decoded the undeniable benefits of making cyber resiliency the new standard - cso online\n",
      "b'ISRO fights over 100 cyber attacks every day, reveals chairman Somanath - Onmanorama'\n",
      "decoded isro fights over 100 cyber attacks every day reveals chairman somanath - onmanorama\n",
      "b'The 6 Most Common Cyberattacks That Could Impact Companies In ... - Forbes'\n",
      "decoded the 6 most common cyberattacks that could impact companies in - forbes\n",
      "b'OP-ED | Computer Systems and Individuals Need to Be Better ... - CT News Junkie'\n",
      "decoded op-ed computer systems and individuals need to be better - ct news junkie\n",
      "b'The role of government cybersecurity efforts in combating risks - McKinsey'\n",
      "decoded the role of government cybersecurity efforts in combating risks - mckinsey\n",
      "b'Cyber-Attacks in the Media Industry Making Headlines - Infosecurity Magazine'\n",
      "decoded cyber-attacks in the media industry making headlines - infosecurity magazine\n",
      "Waiting...\n",
      "Waiting...\n",
      "Waiting...\n"
     ]
    },
    {
     "name": "stderr",
     "output_type": "stream",
     "text": [
      "[Stage 149:=================================>                     (12 + 1) / 20]\r"
     ]
    },
    {
     "name": "stdout",
     "output_type": "stream",
     "text": [
      "+--------------------+--------------------+\n",
      "|                 key|               value|\n",
      "+--------------------+--------------------+\n",
      "|what small busine...|https://news.goog...|\n",
      "|florida schools l...|https://news.goog...|\n",
      "|us smashes annual...|https://news.goog...|\n",
      "|india emerges top...|https://news.goog...|\n",
      "|23andme suffers c...|https://news.goog...|\n",
      "|ukraine cyber-con...|https://news.goog...|\n",
      "|cyber attack - ph...|https://news.goog...|\n",
      "|will quantum comp...|https://news.goog...|\n",
      "|mgm faces 100m lo...|https://news.goog...|\n",
      "|6 actions ceos mu...|https://news.goog...|\n",
      "|iocta spotlight r...|https://news.goog...|\n",
      "|cybersecurity awa...|https://news.goog...|\n",
      "|box and crowdstri...|https://news.goog...|\n",
      "|how i got started...|https://news.goog...|\n",
      "|casino giant caes...|https://news.goog...|\n",
      "|scada the invisib...|https://news.goog...|\n",
      "|well-informed emp...|https://news.goog...|\n",
      "|experts canvass a...|https://news.goog...|\n",
      "|2022s 4 most comm...|https://news.goog...|\n",
      "|emerging cyber th...|https://news.goog...|\n",
      "+--------------------+--------------------+\n",
      "only showing top 20 rows\n",
      "\n"
     ]
    },
    {
     "name": "stderr",
     "output_type": "stream",
     "text": [
      "                                                                                \r"
     ]
    }
   ],
   "source": [
    "from confluent_kafka import Consumer\n",
    "from pyspark.sql.types import *\n",
    "import string\n",
    "\n",
    "\n",
    "# Clean the punctation by making a translation table that maps punctations to empty strings\n",
    "translator = str.maketrans(\"\", \"\", string.punctuation.replace('-', ''))\n",
    "\n",
    "\n",
    "emp_RDD = spark.sparkContext.emptyRDD()\n",
    "# Defining the schema of the DataFrame\n",
    "columns = StructType([StructField('key', StringType(), False),\n",
    "                      StructField('value', StringType(), False)])\n",
    "\n",
    "# Creating an empty DataFrame\n",
    "df = spark.createDataFrame(data=emp_RDD,\n",
    "                                   schema=columns)\n",
    " \n",
    "# Printing the DataFrame with no data\n",
    "df.show()\n",
    "\n",
    "consumer = Consumer(KAFKA_CONFIG)\n",
    "consumer.subscribe([topic_name])\n",
    "\n",
    "try:\n",
    "    i = 0\n",
    "    while i < 5:\n",
    "        msg = consumer.poll(timeout=1.0)\n",
    "        if msg is None:\n",
    "            i = i + 1\n",
    "            print(\"Waiting...\")\n",
    "            continue\n",
    "        if msg is not None:\n",
    "            print(msg.key())\n",
    "            key = msg.key().decode('utf-8').lower().translate(translator)\n",
    "            cleaned_key = \" \".join(key.split())\n",
    "            print('decoded', cleaned_key)\n",
    "\n",
    "            value = msg.value().decode('utf-8')\n",
    "            added_row = [[cleaned_key,value]]\n",
    "            added_df = spark.createDataFrame(added_row, columns)\n",
    "            df = df.union(added_df)\n",
    "\n",
    "except KeyboardInterrupt:\n",
    "    pass\n",
    "finally:\n",
    "    consumer.close()\n",
    "    df.show()\n"
   ]
  },
  {
   "cell_type": "code",
   "execution_count": 76,
   "id": "fc79c352",
   "metadata": {},
   "outputs": [
    {
     "name": "stderr",
     "output_type": "stream",
     "text": [
      "[Stage 150:=================================================>    (91 + 1) / 100]\r"
     ]
    },
    {
     "name": "stdout",
     "output_type": "stream",
     "text": [
      "+-----------------+-----+\n",
      "|             word|count|\n",
      "+-----------------+-----+\n",
      "|denial-of-service|    1|\n",
      "+-----------------+-----+\n",
      "\n"
     ]
    },
    {
     "name": "stderr",
     "output_type": "stream",
     "text": [
      "                                                                                \r"
     ]
    }
   ],
   "source": [
    "from pyspark.sql.functions import *\n",
    "# import nltk \n",
    "# nltk.download('stopwords')\n",
    "\n",
    "# stop_words = nltk.corpus.stopwords.words('english')\n",
    "streamed_data = df.withColumn('word', explode(split(col('key'), ' '))) \\\n",
    "                .filter(col('word').isin(unique_target_types_list)) \\\n",
    "                .groupBy('word') \\\n",
    "                .count() \\\n",
    "                .sort('count', ascending=False)\n",
    "    \n",
    "    \n",
    "streamed_data.show()"
   ]
  },
  {
   "cell_type": "code",
   "execution_count": null,
   "id": "c106db71",
   "metadata": {},
   "outputs": [],
   "source": []
  }
 ],
 "metadata": {
  "kernelspec": {
   "display_name": "aiml_env",
   "language": "python",
   "name": "aiml_env"
  },
  "language_info": {
   "codemirror_mode": {
    "name": "ipython",
    "version": 3
   },
   "file_extension": ".py",
   "mimetype": "text/x-python",
   "name": "python",
   "nbconvert_exporter": "python",
   "pygments_lexer": "ipython3",
   "version": "3.10.13"
  }
 },
 "nbformat": 4,
 "nbformat_minor": 5
}
